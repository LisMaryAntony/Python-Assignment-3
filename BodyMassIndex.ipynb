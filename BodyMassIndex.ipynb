{
 "cells": [
  {
   "cell_type": "code",
   "execution_count": 1,
   "id": "a4fd3219-746c-4541-b2a9-9821bb1a671a",
   "metadata": {},
   "outputs": [],
   "source": [
    "# Body Mass Index"
   ]
  },
  {
   "cell_type": "code",
   "execution_count": 3,
   "id": "fd53839b-32f0-4f85-9e63-0deb687afe15",
   "metadata": {},
   "outputs": [
    {
     "name": "stdin",
     "output_type": "stream",
     "text": [
      "Enter your weight in kg:  60\n",
      "Enter your height in m:  1.55\n"
     ]
    },
    {
     "name": "stdout",
     "output_type": "stream",
     "text": [
      " Your BMI is 24.97398543184183\n",
      " You are in the Obese range\n"
     ]
    }
   ],
   "source": [
    "w = float(input(\"Enter your weight in kg: \"))\n",
    "h = float(input(\"Enter your height in m: \"))\n",
    "bmi = w/(h**2)\n",
    "\n",
    "if bmi < 18.5:\n",
    "    category = \"Underweight\"\n",
    "elif bmi >= 18.5 and bmi <= 24.9:\n",
    "    category = \"Normal\"\n",
    "elif bmi >= 25 and bmi <= 29.9:\n",
    "    category = \"Overweight\"\n",
    "else:\n",
    "    category = \"Obese\"\n",
    "\n",
    "print(f\" Your BMI is {bmi}\")\n",
    "print(f\" You are in the {category} range\")"
   ]
  },
  {
   "cell_type": "code",
   "execution_count": null,
   "id": "ad9920b9-2f19-4aec-be9b-72b3fae7179c",
   "metadata": {},
   "outputs": [],
   "source": []
  }
 ],
 "metadata": {
  "kernelspec": {
   "display_name": "Python 3 (ipykernel)",
   "language": "python",
   "name": "python3"
  },
  "language_info": {
   "codemirror_mode": {
    "name": "ipython",
    "version": 3
   },
   "file_extension": ".py",
   "mimetype": "text/x-python",
   "name": "python",
   "nbconvert_exporter": "python",
   "pygments_lexer": "ipython3",
   "version": "3.12.4"
  }
 },
 "nbformat": 4,
 "nbformat_minor": 5
}

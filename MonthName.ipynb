{
 "cells": [
  {
   "cell_type": "code",
   "execution_count": 1,
   "id": "25f7564b-936e-491c-9210-0f920e35ac18",
   "metadata": {},
   "outputs": [],
   "source": [
    "# Month Names"
   ]
  },
  {
   "cell_type": "code",
   "execution_count": 3,
   "id": "82499300-bcdd-4ac0-ab45-37aeb7857653",
   "metadata": {},
   "outputs": [
    {
     "name": "stdin",
     "output_type": "stream",
     "text": [
      "Enter the month (1 - 12):  10\n"
     ]
    },
    {
     "name": "stdout",
     "output_type": "stream",
     "text": [
      "Month 10 is October.\n"
     ]
    }
   ],
   "source": [
    "n = int(input(\"Enter the month (1 - 12): \"))\n",
    "\n",
    "if n ==1:\n",
    "    month = \"January\"\n",
    "elif n ==2:\n",
    "    month = \"February\"\n",
    "elif n ==3:\n",
    "    month = \"March\"\n",
    "elif n ==4:\n",
    "    month = \"Aprin\"\n",
    "elif n ==5:\n",
    "    month = \"May\"\n",
    "elif n ==6:\n",
    "    month = \"June\"\n",
    "elif n ==7:\n",
    "    month = \"July\"\n",
    "elif n ==8:\n",
    "    month = \"August\"\n",
    "elif n ==9:\n",
    "    month = \"September\"\n",
    "elif n ==10:\n",
    "    month = \"October\"\n",
    "elif n ==11:\n",
    "    month = \"November\"\n",
    "else:\n",
    "    month = \"December\"\n",
    "\n",
    "print(f\"Month {n} is {month}.\")"
   ]
  },
  {
   "cell_type": "code",
   "execution_count": null,
   "id": "f8a163ef-8523-4a32-a683-5ab5c43c1c1f",
   "metadata": {},
   "outputs": [],
   "source": []
  }
 ],
 "metadata": {
  "kernelspec": {
   "display_name": "Python 3 (ipykernel)",
   "language": "python",
   "name": "python3"
  },
  "language_info": {
   "codemirror_mode": {
    "name": "ipython",
    "version": 3
   },
   "file_extension": ".py",
   "mimetype": "text/x-python",
   "name": "python",
   "nbconvert_exporter": "python",
   "pygments_lexer": "ipython3",
   "version": "3.12.4"
  }
 },
 "nbformat": 4,
 "nbformat_minor": 5
}

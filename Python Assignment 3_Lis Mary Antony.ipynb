{
 "cells": [
  {
   "cell_type": "markdown",
   "id": "dad710c6-0db3-4e37-8586-79fbaab060af",
   "metadata": {},
   "source": [
    "# Exercise 1"
   ]
  },
  {
   "cell_type": "code",
   "execution_count": 63,
   "id": "c6399a87-25cd-429a-bd1f-f384f96a78cc",
   "metadata": {},
   "outputs": [
    {
     "name": "stdin",
     "output_type": "stream",
     "text": [
      "Enter the month (1 - 12):  7\n"
     ]
    },
    {
     "name": "stdout",
     "output_type": "stream",
     "text": [
      "Month 7 is July.\n"
     ]
    }
   ],
   "source": [
    "n = int(input(\"Enter the month (1 - 12): \"))\n",
    "\n",
    "if n ==1:\n",
    "    month = \"January\"\n",
    "elif n ==2:\n",
    "    month = \"February\"\n",
    "elif n ==3:\n",
    "    month = \"March\"\n",
    "elif n ==4:\n",
    "    month = \"Aprin\"\n",
    "elif n ==5:\n",
    "    month = \"May\"\n",
    "elif n ==6:\n",
    "    month = \"June\"\n",
    "elif n ==7:\n",
    "    month = \"July\"\n",
    "elif n ==8:\n",
    "    month = \"August\"\n",
    "elif n ==9:\n",
    "    month = \"September\"\n",
    "elif n ==10:\n",
    "    month = \"October\"\n",
    "elif n ==11:\n",
    "    month = \"November\"\n",
    "else:\n",
    "    month = \"December\"\n",
    "\n",
    "print(f\"Month {n} is {month}.\")"
   ]
  },
  {
   "cell_type": "markdown",
   "id": "4fa424c1-e13c-4205-81a6-f942fbc260f5",
   "metadata": {},
   "source": [
    "# Exercise 2"
   ]
  },
  {
   "cell_type": "code",
   "execution_count": 67,
   "id": "be17fefa-8149-4ab1-bb89-896c7d9d8abb",
   "metadata": {},
   "outputs": [
    {
     "name": "stdin",
     "output_type": "stream",
     "text": [
      "Enter your age (1-100):  88\n"
     ]
    },
    {
     "name": "stdout",
     "output_type": "stream",
     "text": [
      "Your ticket costs £ 2.00\n"
     ]
    }
   ],
   "source": [
    "x = int(input(\"Enter your age (1-100): \"))\n",
    "\n",
    "if x < 16:\n",
    "    cost = \"£ 3.00\"\n",
    "elif x >= 16 and x<60:\n",
    "    cost = \"£ 6.00\"\n",
    "else:\n",
    "    cost = \"£ 2.00\"\n",
    "\n",
    "print(f\"Your ticket costs {cost}\")"
   ]
  },
  {
   "cell_type": "markdown",
   "id": "0eee4e28-d6b3-47bd-8847-0e6d50c9f3c1",
   "metadata": {},
   "source": [
    "# Exercise 3"
   ]
  },
  {
   "cell_type": "code",
   "execution_count": 18,
   "id": "3b70595c-849a-4177-9655-675f79145c99",
   "metadata": {},
   "outputs": [
    {
     "name": "stdin",
     "output_type": "stream",
     "text": [
      "Enter your weight in kg:  55\n",
      "Enter your height in m:  1.55\n"
     ]
    },
    {
     "name": "stdout",
     "output_type": "stream",
     "text": [
      " Your BMI is 22.892819979188342\n",
      " You are in the Normal range\n"
     ]
    }
   ],
   "source": [
    "w = float(input(\"Enter your weight in kg: \"))\n",
    "h = float(input(\"Enter your height in m: \"))\n",
    "bmi = w/(h**2)\n",
    "\n",
    "if bmi < 18.5:\n",
    "    category = \"Underweight\"\n",
    "elif bmi >= 18.5 and bmi <= 24.9:\n",
    "    category = \"Normal\"\n",
    "elif bmi >= 25 and bmi <= 29.9:\n",
    "    category = \"Overweight\"\n",
    "else:\n",
    "    category = \"Obese\"\n",
    "\n",
    "print(f\" Your BMI is {bmi}\")\n",
    "print(f\" You are in the {category} range\")"
   ]
  },
  {
   "cell_type": "markdown",
   "id": "29b53109-b458-4a86-b7ee-dee111c90e49",
   "metadata": {},
   "source": [
    "# Exercise 4"
   ]
  },
  {
   "cell_type": "code",
   "execution_count": 69,
   "id": "c240f5e9-aad0-4fa3-96e6-9d3a987b0670",
   "metadata": {},
   "outputs": [
    {
     "name": "stdin",
     "output_type": "stream",
     "text": [
      "Enter the first number:  98\n",
      "Enter the second number:  106\n",
      "Enter the third number:  45\n"
     ]
    },
    {
     "name": "stdout",
     "output_type": "stream",
     "text": [
      " Greatest number among 98, 106, 45 is 106\n"
     ]
    }
   ],
   "source": [
    "a = int(input(\"Enter the first number: \"))\n",
    "b = int(input(\"Enter the second number: \"))\n",
    "c = int(input(\"Enter the third number: \"))\n",
    "Gre = max(a,b,c)\n",
    "\n",
    "print(f\" Greatest number among {a}, {b}, {c} is {Gre}\")\n"
   ]
  },
  {
   "cell_type": "markdown",
   "id": "cb14070b-fd59-421d-baba-701c844552a5",
   "metadata": {},
   "source": [
    "# Exercise 5"
   ]
  },
  {
   "cell_type": "code",
   "execution_count": 75,
   "id": "2af91079-b0f6-4024-97d0-9b059e3f96d9",
   "metadata": {},
   "outputs": [
    {
     "name": "stdin",
     "output_type": "stream",
     "text": [
      "Enter a number:  5\n"
     ]
    },
    {
     "name": "stdout",
     "output_type": "stream",
     "text": [
      "The factorial of 5 is 120\n"
     ]
    }
   ],
   "source": [
    "y = int(input(\"Enter a number: \"))\n",
    "fact = 1\n",
    "\n",
    "for i in range(1, y + 1):\n",
    "    fact = fact*i\n",
    "\n",
    "print(f\"The factorial of {y} is {fact}\")"
   ]
  },
  {
   "cell_type": "markdown",
   "id": "d968b345-0d3d-4f9b-9bea-ee4b85da1773",
   "metadata": {},
   "source": [
    "# Exercise 6"
   ]
  },
  {
   "cell_type": "code",
   "execution_count": 87,
   "id": "c6a7a175-0c57-4b41-b8ab-a00513b63f51",
   "metadata": {},
   "outputs": [
    {
     "name": "stdin",
     "output_type": "stream",
     "text": [
      "Enter a number to reverse:  78560345\n"
     ]
    },
    {
     "name": "stdout",
     "output_type": "stream",
     "text": [
      "The reversed number is 54306587\n"
     ]
    }
   ],
   "source": [
    "r = int(input(\"Enter a number to reverse: \"))\n",
    "rev_num = 0\n",
    "\n",
    "while r > 0:\n",
    "    rem = r % 10\n",
    "    rev_num = rev_num * 10 + rem\n",
    "    r = r//10\n",
    "\n",
    "print(f\"The reversed number is {rev_num}\")"
   ]
  },
  {
   "cell_type": "markdown",
   "id": "08e70dbe-abf0-4b7e-8623-1ec9af8494e3",
   "metadata": {},
   "source": [
    "# Exercise 7"
   ]
  },
  {
   "cell_type": "code",
   "execution_count": 89,
   "id": "e1319dbc-4889-4844-bf98-cc1fb388e6ea",
   "metadata": {},
   "outputs": [
    {
     "name": "stdin",
     "output_type": "stream",
     "text": [
      "Enter a number to find its multiples:  7\n",
      "Enter the limit:  10\n"
     ]
    },
    {
     "name": "stdout",
     "output_type": "stream",
     "text": [
      "7 * 1 = 7\n",
      "7 * 2 = 14\n",
      "7 * 3 = 21\n",
      "7 * 4 = 28\n",
      "7 * 5 = 35\n",
      "7 * 6 = 42\n",
      "7 * 7 = 49\n",
      "7 * 8 = 56\n",
      "7 * 9 = 63\n",
      "7 * 10 = 70\n"
     ]
    }
   ],
   "source": [
    "k = int(input(\"Enter a number to find its multiples: \"))\n",
    "li = int(input(\"Enter the limit: \"))\n",
    "\n",
    "for i in range(1, li + 1):\n",
    "    print(f\"{k} * {i} = {k * i}\")"
   ]
  },
  {
   "cell_type": "markdown",
   "id": "7fcd11c5-9cc5-4859-b143-b8f0008500e9",
   "metadata": {},
   "source": [
    "# Exercise 8"
   ]
  },
  {
   "cell_type": "code",
   "execution_count": 91,
   "id": "7ad87a89-655c-4e4d-8d98-75f96a6d759a",
   "metadata": {},
   "outputs": [
    {
     "name": "stdin",
     "output_type": "stream",
     "text": [
      "Enter your note (in small lestters): lis mary\n"
     ]
    },
    {
     "name": "stdout",
     "output_type": "stream",
     "text": [
      "lis mary\n"
     ]
    },
    {
     "name": "stdin",
     "output_type": "stream",
     "text": [
      "Enter your note (in small lestters): how are you\n"
     ]
    },
    {
     "name": "stdout",
     "output_type": "stream",
     "text": [
      "how are you\n"
     ]
    },
    {
     "name": "stdin",
     "output_type": "stream",
     "text": [
      "Enter your note (in small lestters): fine\n"
     ]
    },
    {
     "name": "stdout",
     "output_type": "stream",
     "text": [
      "fine\n"
     ]
    },
    {
     "name": "stdin",
     "output_type": "stream",
     "text": [
      "Enter your note (in small lestters): finish\n"
     ]
    },
    {
     "name": "stdout",
     "output_type": "stream",
     "text": [
      "finish\n"
     ]
    },
    {
     "name": "stdin",
     "output_type": "stream",
     "text": [
      "Enter your note (in small lestters): long\n"
     ]
    },
    {
     "name": "stdout",
     "output_type": "stream",
     "text": [
      "long\n"
     ]
    },
    {
     "name": "stdin",
     "output_type": "stream",
     "text": [
      "Enter your note (in small lestters): done\n"
     ]
    },
    {
     "name": "stdout",
     "output_type": "stream",
     "text": [
      "Done\n"
     ]
    }
   ],
   "source": [
    "while True:\n",
    "    t = input(\"Enter your note (in small lestters):\")\n",
    "    if t == 'done':\n",
    "        print(\"Done\")\n",
    "        break\n",
    "    else:\n",
    "        print(t)"
   ]
  },
  {
   "cell_type": "markdown",
   "id": "79278306-bd14-4520-a9af-ae622645fde6",
   "metadata": {},
   "source": [
    "# Exercise 9"
   ]
  },
  {
   "cell_type": "code",
   "execution_count": 93,
   "id": "62e02e9a-e190-47a0-9257-d650e01f5992",
   "metadata": {},
   "outputs": [
    {
     "name": "stdout",
     "output_type": "stream",
     "text": [
      "1\n",
      "2\n",
      "Fizz\n",
      "4\n",
      "Buzz\n",
      "Fizz\n",
      "7\n",
      "8\n",
      "Fizz\n",
      "Buzz\n"
     ]
    }
   ],
   "source": [
    "for i in range(1, 11):\n",
    "    if i % 3 == 0 and i % 5 == 0:\n",
    "        print(\"FizzBuzz\")\n",
    "    elif i % 3 == 0:\n",
    "        print(\"Fizz\")\n",
    "    elif i % 5 == 0:\n",
    "        print(\"Buzz\")\n",
    "    else:\n",
    "        print(i)"
   ]
  },
  {
   "cell_type": "markdown",
   "id": "46c7f9c4-9984-46ff-83f8-130003ddd105",
   "metadata": {},
   "source": [
    "# Exercise 10"
   ]
  },
  {
   "cell_type": "code",
   "execution_count": 57,
   "id": "a9bbe0ca-c28b-4347-bfff-4920287bd343",
   "metadata": {},
   "outputs": [
    {
     "name": "stdout",
     "output_type": "stream",
     "text": [
      "5 4 3 2 1 \n",
      "4 3 2 1 \n",
      "3 2 1 \n",
      "2 1 \n",
      "1 \n"
     ]
    }
   ],
   "source": [
    "for i in range(5, 0, -1):\n",
    "    for j in range(i, 0, -1):\n",
    "        print(j, end=\" \")\n",
    "    print()"
   ]
  },
  {
   "cell_type": "code",
   "execution_count": null,
   "id": "3bfc28c1-7328-43d2-a452-076235a92212",
   "metadata": {},
   "outputs": [],
   "source": []
  }
 ],
 "metadata": {
  "kernelspec": {
   "display_name": "Python 3 (ipykernel)",
   "language": "python",
   "name": "python3"
  },
  "language_info": {
   "codemirror_mode": {
    "name": "ipython",
    "version": 3
   },
   "file_extension": ".py",
   "mimetype": "text/x-python",
   "name": "python",
   "nbconvert_exporter": "python",
   "pygments_lexer": "ipython3",
   "version": "3.12.4"
  }
 },
 "nbformat": 4,
 "nbformat_minor": 5
}
